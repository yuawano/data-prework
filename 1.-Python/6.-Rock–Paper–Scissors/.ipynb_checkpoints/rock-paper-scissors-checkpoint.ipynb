{
 "cells": [
  {
   "cell_type": "markdown",
   "metadata": {},
   "source": [
    "<img src=\"https://bit.ly/2VnXWr2\" width=\"100\" align=\"left\">"
   ]
  },
  {
   "cell_type": "markdown",
   "metadata": {},
   "source": [
    "# Rock, Paper & Scissors\n",
    "\n",
    "Let's play the famous game against our computer. You can check the rules [here](https://en.wikipedia.org/wiki/Rock%E2%80%93paper%E2%80%93scissors). \n",
    "\n",
    "## Task\n",
    "Create a program that imitates the playability of the well known game of rock, paper, scissors. Follow the guidelines provided.\n",
    "\n",
    "## Tools\n",
    "1. Loop: **for/while**\n",
    "2. Functions: **input(), print()...**\n",
    "3. Conditional statements: **if, elif, else**\n",
    "4. Definition of functions. Modular programming\n",
    "5. Import modules\n",
    "\n",
    "**To solve this challenge, the use of functions is recommended.**\n",
    "\n",
    "#### 1. Import the choice function of the random module."
   ]
  },
  {
   "cell_type": "code",
   "execution_count": 13,
   "metadata": {},
   "outputs": [],
   "source": [
    "# Python3 program to demonstrate the use of\n",
    "# choice() method \n",
    "  \n",
    "# import random\n",
    "\n",
    "import random\n",
    "\n"
   ]
  },
  {
   "cell_type": "markdown",
   "metadata": {},
   "source": [
    "#### 2. Create a list that includes the 3 possible gesture options of the game: 'rock', 'paper' or 'scissors'. Store the list in a variable called `gestures`."
   ]
  },
  {
   "cell_type": "code",
   "execution_count": 14,
   "metadata": {},
   "outputs": [],
   "source": [
    "gestures = ['rock', 'paper', 'scissors']"
   ]
  },
  {
   "cell_type": "markdown",
   "metadata": {},
   "source": [
    "#### 3. Create a variable called `n_rounds` to store the maximum number of rounds to play in a game. \n",
    "Remember that the number of rounds must be odd: 1, 3, 5, ..."
   ]
  },
  {
   "cell_type": "code",
   "execution_count": 15,
   "metadata": {},
   "outputs": [],
   "source": [
    "n_rounds = 3 #e.g. 3 rounds"
   ]
  },
  {
   "cell_type": "markdown",
   "metadata": {},
   "source": [
    "#### 4. Create a variable called `rounds_to_win` to store the number of rounds that a player must win to win the game.\n",
    "**Hint**: the value stored in `rounds_to_win` depends on the value of `n_rounds`. "
   ]
  },
  {
   "cell_type": "code",
   "execution_count": 16,
   "metadata": {},
   "outputs": [],
   "source": [
    "rounds_to_win = 2 #based on the e.g.3 rounds to win will be 2 rounds"
   ]
  },
  {
   "cell_type": "markdown",
   "metadata": {},
   "source": [
    "#### 5. Create two variables to store the number of rounds that the computer and the player have won. Call these variables `cpu_score` and `player_score`."
   ]
  },
  {
   "cell_type": "code",
   "execution_count": 17,
   "metadata": {},
   "outputs": [],
   "source": [
    "cpu_score = 0\n",
    "player_score = 0"
   ]
  },
  {
   "cell_type": "markdown",
   "metadata": {},
   "source": [
    "#### 6. Define a function that randomly returns one of the 3 gesture options.\n",
    "You will use this function to simulate the gesture choice of the computer. "
   ]
  },
  {
   "cell_type": "code",
   "execution_count": 87,
   "metadata": {},
   "outputs": [
    {
     "name": "stdout",
     "output_type": "stream",
     "text": [
      "paper\n"
     ]
    }
   ],
   "source": [
    "# prints a random value from the list\n",
    "\n",
    "cpu_gesture = ['rock', 'paper', 'scissors']\n",
    "print(random.choice(cpu_gesture))"
   ]
  },
  {
   "cell_type": "markdown",
   "metadata": {},
   "source": [
    "#### 7. Define a function that asks the player which is the gesture he or she wants to show: 'rock', 'paper' or 'scissors'.\n",
    "The player should only be allowed to choose one of the 3 gesture options. If the player's choice is not rock, paper or scissors, keep asking until it is."
   ]
  },
  {
   "cell_type": "code",
   "execution_count": 174,
   "metadata": {},
   "outputs": [
    {
     "name": "stdout",
     "output_type": "stream",
     "text": [
      "Please enter your gesturerock\n",
      "Your choice is:  rock\n"
     ]
    }
   ],
   "source": [
    "# input valid values\n",
    "gestures = ['rock', 'paper', 'scissors']\n",
    "\n",
    "# Get input from the player\n",
    "\n",
    "player_gesture = input(\"Please enter your gesture\")\n",
    "\n",
    "# Test player's input (checking for invalid inputs)\n",
    "while player_gesture not in gestures:\n",
    "    # Error message!\n",
    "    print(\"Invalid. Try again.\")\n",
    "    # ask for the input again\n",
    "    player_gesture = input(\"Please enter your gesture\")\n",
    "    \n",
    "\n",
    "# continue on with the program\n",
    "print(\"Your choice is: \", player_gesture)"
   ]
  },
  {
   "cell_type": "code",
   "execution_count": null,
   "metadata": {},
   "outputs": [],
   "source": []
  },
  {
   "cell_type": "code",
   "execution_count": null,
   "metadata": {},
   "outputs": [],
   "source": []
  },
  {
   "cell_type": "markdown",
   "metadata": {},
   "source": [
    "#### 8. Define a function that checks who won a round. \n",
    "The function should return 0 if there is a tie, 1 if the computer wins and 2 if the player wins."
   ]
  },
  {
   "cell_type": "code",
   "execution_count": 175,
   "metadata": {},
   "outputs": [
    {
     "name": "stdout",
     "output_type": "stream",
     "text": [
      "2\n"
     ]
    }
   ],
   "source": [
    "gestures = ['rock', 'paper', 'scissors']\n",
    "\n",
    "cpu_gesture = 'rock'\n",
    "player_gesture = 'paper'\n",
    "\n",
    "\n",
    "if cpu_gesture == player_gesture:\n",
    "    print(0)\n",
    "    \n",
    "elif cpu_gesture == 'rock' and player_gesture == 'scissors':\n",
    "    print(1)\n",
    "   \n",
    "elif cpu_gesture == 'scissors' and player_gesture == 'paper':\n",
    "    print(1)\n",
    "\n",
    "elif cpu_gesture == 'paper' and player_gesture == 'rock':\n",
    "    print(1)\n",
    "          \n",
    "else:\n",
    "    print(2)\n",
    "    "
   ]
  },
  {
   "cell_type": "markdown",
   "metadata": {},
   "source": [
    "#### 9. Define a function that prints the choice of the computer, the choice of the player and a message that announces who won the current round. \n",
    "You should also use this function to update the variables that count the number of rounds that the computer and the player have won. The score of the winner increases by one point. If there is a tie, the score does not increase."
   ]
  },
  {
   "cell_type": "code",
   "execution_count": 178,
   "metadata": {},
   "outputs": [
    {
     "name": "stdout",
     "output_type": "stream",
     "text": [
      "Please enter your gesture: scissors\n",
      "Computer gesture is rock\n",
      "Computer wins\n"
     ]
    }
   ],
   "source": [
    "#Valid gestures\n",
    "gestures = ['rock', 'paper', 'scissors']\n",
    "\n",
    "# Ask for player's gesture\n",
    "player_gesture = input(\"Please enter your gesture: \")  \n",
    "\n",
    "while player_gesture not in gestures:\n",
    "    \n",
    "    print(\"Invalid. Try again.\")\n",
    "    \n",
    "    player_gesture = input(\"Please enter your gesture:\")\n",
    "\n",
    "    \n",
    "# Computer's random gesture \n",
    "import random  \n",
    "cpu_gesture = random.choice(gestures)\n",
    "print(\"Computer gesture is\", cpu_gesture)\n",
    "\n",
    "# Annouce who won\n",
    "if player_gesture == cpu_gesture:\n",
    "    print(\"It is a Tie\")\n",
    "    \n",
    "elif player_gesture == 'rock' and cpu_gesture == 'scissors':\n",
    "    print(\"Player wins\")\n",
    "   \n",
    "elif player_gesture == 'scissors' and cpu_gesture == 'paper':\n",
    "    print(\"Player wins\")\n",
    "\n",
    "elif player_gesture == 'paper' and cpu_gesture == 'rock':\n",
    "    print(\"Player wins\")\n",
    "          \n",
    "else:\n",
    "    print(\"Computer wins\")\n",
    "\n"
   ]
  },
  {
   "cell_type": "code",
   "execution_count": null,
   "metadata": {},
   "outputs": [],
   "source": []
  },
  {
   "cell_type": "code",
   "execution_count": null,
   "metadata": {},
   "outputs": [],
   "source": []
  },
  {
   "cell_type": "code",
   "execution_count": null,
   "metadata": {},
   "outputs": [],
   "source": []
  },
  {
   "cell_type": "code",
   "execution_count": null,
   "metadata": {},
   "outputs": [],
   "source": [
    "\n"
   ]
  },
  {
   "cell_type": "markdown",
   "metadata": {},
   "source": [
    "#### 10. Now it's time to code the execution of the game using the functions and variables you defined above. \n",
    "\n",
    "First, create a loop structure that repeats while no player reaches the minimum score necessary to win and the number of rounds is less than the maximum number of rounds to play in a game.  \n",
    "\n",
    "Inside the loop, use the functions and variables above to create the execution of a round: ask for the player's choice, generate the random choice of the computer, show the round results, update the scores, etc. "
   ]
  },
  {
   "cell_type": "code",
   "execution_count": 188,
   "metadata": {},
   "outputs": [
    {
     "name": "stdout",
     "output_type": "stream",
     "text": [
      "Please enter your gesture: rock\n",
      "Computer gesture is scissors\n",
      "Please enter your gesture: paper\n",
      "Computer gesture is paper\n",
      "Please enter your gesture: paper\n",
      "Computer gesture is rock\n",
      "Player wins\n"
     ]
    }
   ],
   "source": [
    "#Valid gestures\n",
    "gestures = ['rock', 'paper', 'scissors']\n",
    "\n",
    "max_n_rounds = 3 #max num rounds\n",
    "n_rounds = 0\n",
    "rounds_to_win = 2 #minimun number for either player to win\n",
    "\n",
    "\n",
    "cpu_score = 0 # count the score\n",
    "player_score = 0 #count the score\n",
    "\n",
    "# create the loop that repeats until no player reaches the min score & number of rounds is less than max rounds of rounds\n",
    "while player_score < rounds_to_win and cpu_score < rounds_to_win and n_rounds < max_n_rounds:\n",
    "    \n",
    "    player_gesture = input(\"Please enter your gesture: \")  \n",
    "    \n",
    "    while player_gesture not in gestures:\n",
    "        print(\"Invalid. Try again.\")\n",
    "        player_gesture = input(\"Please enter your gesture:\")\n",
    "        \n",
    "\n",
    "    cpu_gesture = random.choice(gestures)\n",
    "    print(\"Computer gesture is\", cpu_gesture)\n",
    "    \n",
    "    if player_gesture == cpu_gesture:\n",
    "        cpu_score += 0\n",
    "        player_score += 0\n",
    "    \n",
    "    elif player_gesture == 'rock' and cpu_gesture == 'scissors':\n",
    "        player_score += 1\n",
    "    \n",
    "    elif player_gesture == 'scissors' and cpu_gesture == 'paper':\n",
    "        player_score += 1\n",
    "    \n",
    "    elif player_gesture == 'paper' and cpu_gesture == 'rock':\n",
    "        player_score += 1\n",
    "    \n",
    "    else:\n",
    "        cpu_score += 1\n",
    "        \n",
    "    n_rounds += 1\n",
    "        \n",
    "    \n",
    "if cpu_score == player_score:\n",
    "    print(\"Tie\")\n",
    "    \n",
    "elif cpu_score > player_score:\n",
    "    print(\"Computer wins\")\n",
    "    \n",
    "else:\n",
    "    print(\"Player wins\")\n",
    "    \n",
    "    \n"
   ]
  },
  {
   "cell_type": "code",
   "execution_count": null,
   "metadata": {},
   "outputs": [],
   "source": []
  },
  {
   "cell_type": "markdown",
   "metadata": {},
   "source": [
    "#### 11. Print the winner of the game based on who won more rounds.\n",
    "Remember that the game might be tied. "
   ]
  },
  {
   "cell_type": "code",
   "execution_count": 185,
   "metadata": {},
   "outputs": [
    {
     "ename": "SyntaxError",
     "evalue": "invalid syntax (<ipython-input-185-3be8ea78fd8a>, line 1)",
     "output_type": "error",
     "traceback": [
      "\u001b[0;36m  File \u001b[0;32m\"<ipython-input-185-3be8ea78fd8a>\"\u001b[0;36m, line \u001b[0;32m1\u001b[0m\n\u001b[0;31m    If cpu_score == player_score:\u001b[0m\n\u001b[0m       ^\u001b[0m\n\u001b[0;31mSyntaxError\u001b[0m\u001b[0;31m:\u001b[0m invalid syntax\n"
     ]
    }
   ],
   "source": []
  },
  {
   "cell_type": "markdown",
   "metadata": {},
   "source": [
    "# Bonus: Rock, Paper, Scissors, Lizard & Spock\n",
    "![](images/rpsls.jpg)\n",
    "\n",
    "In this challenge, you need to improve the previous game by adding two new options. To know more about the rules of the improved version of rock, paper, scissors, check this [link](http://www.samkass.com/theories/RPSSL.html). \n",
    "\n",
    "In addition, you will also need to improve how the game interacts with the player: the number of rounds to play, which must be an odd number, will be requested to the user until a valid number is entered. Define a new function to make that request.\n",
    "\n",
    "**Hint**: Try to reuse the code that you already coded in the previous challenge. If your code is efficient, this bonus will only consist of simple modifications to the original game."
   ]
  },
  {
   "cell_type": "code",
   "execution_count": null,
   "metadata": {},
   "outputs": [],
   "source": []
  },
  {
   "cell_type": "code",
   "execution_count": null,
   "metadata": {},
   "outputs": [],
   "source": []
  }
 ],
 "metadata": {
  "kernelspec": {
   "display_name": "Python 3",
   "language": "python",
   "name": "python3"
  },
  "language_info": {
   "codemirror_mode": {
    "name": "ipython",
    "version": 3
   },
   "file_extension": ".py",
   "mimetype": "text/x-python",
   "name": "python",
   "nbconvert_exporter": "python",
   "pygments_lexer": "ipython3",
   "version": "3.9.4"
  }
 },
 "nbformat": 4,
 "nbformat_minor": 2
}
